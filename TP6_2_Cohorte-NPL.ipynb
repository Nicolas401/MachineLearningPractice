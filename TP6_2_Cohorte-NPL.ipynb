{
 "cells": [
  {
   "cell_type": "code",
   "execution_count": null,
   "metadata": {
    "id": "GDbTeZs8nApL"
   },
   "outputs": [],
   "source": [
    "!ls \"drive/MyDrive/Diplomatura Data Science\""
   ]
  },
  {
   "cell_type": "code",
   "execution_count": null,
   "metadata": {
    "id": "yM4TIG8io1V9"
   },
   "outputs": [],
   "source": [
    "import pandas as pd\n",
    "import numpy as np\n",
    "\n",
    "import matplotlib.pyplot as plt\n",
    "%matplotlib inline\n",
    "\n",
    "import seaborn as sns\n",
    "\n",
    "from sklearn.feature_extraction.text import CountVectorizer\n",
    "\n",
    "pd.options.display.max_columns = None\n",
    "pd.options.display.max_rows = None"
   ]
  },
  {
   "cell_type": "code",
   "execution_count": null,
   "metadata": {
    "id": "uYeaqdCHo6rc"
   },
   "outputs": [],
   "source": [
    "yelp_path = 'drive/MyDrive/Diplomatura Data Science/reviews_yelp_nn.csv'\n",
    "cols = ['business_id', 'cool', 'date', 'funny', 'review_id', 'stars', 'text', 'useful', 'user_id']\n",
    "\n",
    "#def date_parser(serie):\n",
    "#    return serie.astype(datetime64)\n",
    "\n",
    "print('----Iniciando carga del dataset----')\n",
    "\n",
    "#df = pd.read_csv(yelp_path,sep='\\t',header=0)\n",
    "#df = pd.read_csv(yelp_path,sep='\\t',header=0,low_memory=False)\n",
    "df = pd.read_csv(yelp_path,sep='\\t',header=0,usecols=cols)\n",
    "#df = pd.read_csv(yelp_path,sep='\\t',usecols=cols,date_parser= date_parser,parse_dates=['date'])\n",
    "#df = pd.read_csv(yelp_path,sep='\\t',header=0,dtype={\"business_id\": \"string\", \"cool\": float, \"date\": \"string\", \"funny\": float, \"review_id\": \"string\", \"stars\": float, \"text\": \"string\", \"useful\": float, \"user_id\": \"string\"})\n",
    "\n",
    "print('----Carga finalizada----')\n"
   ]
  },
  {
   "cell_type": "code",
   "execution_count": null,
   "metadata": {
    "id": "sktF8b1jq1KD"
   },
   "outputs": [],
   "source": [
    "yelp_path = 'drive/MyDrive/Diplomatura Data Science/reviews_yelp_nn.csv'\n",
    "cols = ['business_id', 'cool', 'date', 'funny', 'review_id', 'stars', 'text', 'useful', 'user_id']\n",
    "\n",
    "def conv(val):\n",
    "    if not val:\n",
    "        return 0    \n",
    "    try:\n",
    "        return np.float64(val)\n",
    "    except:        \n",
    "        return np.float64(0)\n",
    "\n",
    "print('----Iniciando carga del dataset----')\n",
    "\n",
    "df = pd.read_csv(yelp_path,sep='\\t',header=0,usecols=cols,converters={'cool':conv})\n",
    "\n",
    "print('----Carga finalizada----')\n"
   ]
  },
  {
   "cell_type": "code",
   "execution_count": null,
   "metadata": {
    "id": "iKb-MUH4pYcm"
   },
   "outputs": [],
   "source": [
    "df.shape"
   ]
  },
  {
   "cell_type": "code",
   "execution_count": null,
   "metadata": {
    "id": "p28TvvJ-xsU3"
   },
   "outputs": [],
   "source": [
    "df.count()"
   ]
  },
  {
   "cell_type": "code",
   "execution_count": null,
   "metadata": {
    "id": "kX0HqDD9IKKS"
   },
   "outputs": [],
   "source": [
    "df.info()"
   ]
  },
  {
   "cell_type": "code",
   "execution_count": null,
   "metadata": {
    "id": "9Em9OJdKs8m3"
   },
   "outputs": [],
   "source": [
    "df.columns"
   ]
  },
  {
   "cell_type": "code",
   "execution_count": null,
   "metadata": {
    "id": "RKbf8K23tBqP"
   },
   "outputs": [],
   "source": [
    "df.dtypes"
   ]
  },
  {
   "cell_type": "code",
   "execution_count": null,
   "metadata": {
    "id": "uPS-S6jHqUtU"
   },
   "outputs": [],
   "source": [
    "df.head()"
   ]
  },
  {
   "cell_type": "markdown",
   "metadata": {
    "id": "09Il9AujJyA-"
   },
   "source": [
    "Chequeamos si hay datos faltantes"
   ]
  },
  {
   "cell_type": "code",
   "execution_count": null,
   "metadata": {
    "id": "nbykPUfHpR4Y"
   },
   "outputs": [],
   "source": [
    "df.isna().sum().any()"
   ]
  },
  {
   "cell_type": "code",
   "execution_count": null,
   "metadata": {
    "id": "vLtDS7KhJqj8"
   },
   "outputs": [],
   "source": [
    "df.isna().sum() > 0"
   ]
  },
  {
   "cell_type": "code",
   "execution_count": null,
   "metadata": {
    "id": "ojuhb1ZzJ_H5"
   },
   "outputs": [],
   "source": [
    "sns.heatmap(df[df.columns[0:8]].isnull())"
   ]
  },
  {
   "cell_type": "code",
   "execution_count": null,
   "metadata": {
    "id": "F1CidJ7LxcxY"
   },
   "outputs": [],
   "source": [
    "df['cool'].isna().sum()"
   ]
  },
  {
   "cell_type": "code",
   "execution_count": null,
   "metadata": {
    "id": "Ejwhp2vnwv9h"
   },
   "outputs": [],
   "source": [
    "df['date'].isna().sum()"
   ]
  },
  {
   "cell_type": "code",
   "execution_count": null,
   "metadata": {
    "id": "oJF8ML0-xmx-"
   },
   "outputs": [],
   "source": [
    "df['funny'].isna().sum()"
   ]
  },
  {
   "cell_type": "code",
   "execution_count": null,
   "metadata": {
    "id": "MVTafoJMvfIl"
   },
   "outputs": [],
   "source": [
    "df['review_id'].isna().sum()"
   ]
  },
  {
   "cell_type": "code",
   "execution_count": null,
   "metadata": {
    "id": "L4oJtlwtxqWM"
   },
   "outputs": [],
   "source": [
    "df['stars'].isna().sum()"
   ]
  },
  {
   "cell_type": "code",
   "execution_count": null,
   "metadata": {
    "id": "OjABXnSfw3-8"
   },
   "outputs": [],
   "source": [
    "df['text'].isna().sum()"
   ]
  },
  {
   "cell_type": "code",
   "execution_count": null,
   "metadata": {
    "id": "iGgSRYxBxzBl"
   },
   "outputs": [],
   "source": [
    "df['useful'].isna().sum()"
   ]
  },
  {
   "cell_type": "code",
   "execution_count": null,
   "metadata": {
    "id": "BEG02y4Iu560"
   },
   "outputs": [],
   "source": [
    "df['user_id'].isna().sum()"
   ]
  },
  {
   "cell_type": "code",
   "execution_count": null,
   "metadata": {
    "id": "XWFGhrAbZaRN"
   },
   "outputs": [],
   "source": [
    "df['cool'].value_counts(normalize=False,dropna=False)"
   ]
  },
  {
   "cell_type": "code",
   "execution_count": null,
   "metadata": {
    "id": "prM2jPI1jI-K"
   },
   "outputs": [],
   "source": [
    "df[df.cool<0].value_counts()"
   ]
  },
  {
   "cell_type": "code",
   "execution_count": null,
   "metadata": {
    "id": "fkxpWlPiaTkr"
   },
   "outputs": [],
   "source": [
    "df['funny'].value_counts(normalize=False,dropna=False)"
   ]
  },
  {
   "cell_type": "code",
   "execution_count": null,
   "metadata": {
    "id": "4t8xa34-aUWd"
   },
   "outputs": [],
   "source": [
    "df['stars'].value_counts(normalize=False,dropna=False)"
   ]
  },
  {
   "cell_type": "code",
   "execution_count": null,
   "metadata": {
    "id": "l30RVtXFaXed"
   },
   "outputs": [],
   "source": [
    "df['useful'].value_counts(normalize=False,dropna=False)"
   ]
  },
  {
   "cell_type": "code",
   "execution_count": null,
   "metadata": {
    "id": "oud0U4fTvbDu"
   },
   "outputs": [],
   "source": [
    "df[df.useful<0].value_counts()"
   ]
  },
  {
   "cell_type": "markdown",
   "metadata": {
    "id": "LYXO_nQZIrXE"
   },
   "source": [
    "Chequeamos que columnas contienen un mismo dato en todas las filas"
   ]
  },
  {
   "cell_type": "code",
   "execution_count": null,
   "metadata": {
    "id": "zXBlSZhdIZmC"
   },
   "outputs": [],
   "source": [
    "[columna for columna in df.columns if df[columna].nunique()==1]"
   ]
  },
  {
   "cell_type": "markdown",
   "metadata": {
    "id": "gyXeAETiJ2sC"
   },
   "source": [
    "Chequeamos si hay datos duplicados"
   ]
  },
  {
   "cell_type": "code",
   "execution_count": null,
   "metadata": {
    "id": "W0W-zlXYJOby"
   },
   "outputs": [],
   "source": [
    "df.duplicated().any()"
   ]
  },
  {
   "cell_type": "code",
   "execution_count": null,
   "metadata": {
    "id": "uz7wnMfMIuay"
   },
   "outputs": [],
   "source": [
    "for col in df.select_dtypes('number').columns:\n",
    "    print(col,sum(df[col]>df[col].quantile(0.95)))"
   ]
  },
  {
   "cell_type": "markdown",
   "metadata": {
    "id": "kKdfzLn1yWAJ"
   },
   "source": [
    "Limpieza de datos"
   ]
  },
  {
   "cell_type": "code",
   "execution_count": null,
   "metadata": {
    "id": "CONZ4LThpQCS"
   },
   "outputs": [],
   "source": [
    "#Podemos borrar todas las filas con datos faltantes ya que la cantidad no es significativa\n",
    "df.dropna(inplace=True)\n",
    "#df.dropna(subset=['stars'], inplace=True)"
   ]
  },
  {
   "cell_type": "code",
   "execution_count": null,
   "metadata": {
    "id": "fK_ZtWfVzRGH"
   },
   "outputs": [],
   "source": [
    "df.drop(df[df.cool < 0].index, inplace=True)"
   ]
  },
  {
   "cell_type": "code",
   "execution_count": null,
   "metadata": {
    "id": "7xQsC96AxHvr"
   },
   "outputs": [],
   "source": [
    "df.drop(df[df.useful < 0].index, inplace=True)"
   ]
  },
  {
   "cell_type": "code",
   "execution_count": null,
   "metadata": {
    "id": "OM3ERe-bmx9R"
   },
   "outputs": [],
   "source": [
    "df.info()"
   ]
  },
  {
   "cell_type": "code",
   "execution_count": null,
   "metadata": {
    "id": "DKU_ueTRqvqV"
   },
   "outputs": [],
   "source": [
    "df.describe()"
   ]
  },
  {
   "cell_type": "code",
   "execution_count": null,
   "metadata": {
    "id": "0RDIdjD_eY1b"
   },
   "outputs": [],
   "source": [
    "stval = df.groupby('stars').mean()\n",
    "stval"
   ]
  },
  {
   "cell_type": "code",
   "execution_count": null,
   "metadata": {
    "id": "9TwnIpZ6e7Cx"
   },
   "outputs": [],
   "source": [
    "stval.corr()"
   ]
  },
  {
   "cell_type": "code",
   "execution_count": null,
   "metadata": {
    "id": "2qycOPySfApE"
   },
   "outputs": [],
   "source": [
    "sns.heatmap(data=stval.corr(), annot=True)"
   ]
  },
  {
   "cell_type": "markdown",
   "metadata": {
    "id": "JrUYFEUilyMp"
   },
   "source": [
    "En este punto definimos con que columnas vamos a continuar trabajando\n",
    "\n",
    "Para nuestro proyecto, las mas relevantes pueden ser:\n",
    "'review_id', 'stars', 'text', 'date'"
   ]
  },
  {
   "cell_type": "code",
   "execution_count": null,
   "metadata": {
    "id": "__WOxfitVxEG"
   },
   "outputs": [],
   "source": [
    "df.drop(columns=['business_id','cool','funny','useful','user_id'],inplace=True)"
   ]
  },
  {
   "cell_type": "code",
   "execution_count": null,
   "metadata": {
    "id": "GJg-mZ1JWlfN"
   },
   "outputs": [],
   "source": [
    "df.info()"
   ]
  },
  {
   "cell_type": "markdown",
   "metadata": {
    "id": "u-gIPnlvkupI"
   },
   "source": [
    "Chequeamos la distribucion de los datos de la columna STARS para definir el TARGET"
   ]
  },
  {
   "cell_type": "code",
   "execution_count": null,
   "metadata": {
    "id": "CYVoPBKoFhBw"
   },
   "outputs": [],
   "source": [
    "# Check rating distribution\n",
    "fig = plt.figure(figsize = (6, 4))\n",
    "\n",
    "title = fig.suptitle(\"Rating distribution for stars\", fontsize=14)\n",
    "\n",
    "fig.subplots_adjust(top=0.85, wspace=0.3)\n",
    "\n",
    "ax = fig.add_subplot(1,1, 1)\n",
    "ax.set_xlabel(\"Rating\")\n",
    "ax.set_ylabel(\"Proportion\") \n",
    "w_q = df['stars'].value_counts(normalize=True)\n",
    "w_q = (list(w_q.index), list(w_q.values))\n",
    "ax.tick_params(axis='both', which='major', labelsize=8.5)\n",
    "bar = ax.bar(w_q[0], w_q[1], color='steelblue')"
   ]
  },
  {
   "cell_type": "code",
   "execution_count": null,
   "metadata": {
    "id": "z1K6i5iGF8pt"
   },
   "outputs": [],
   "source": [
    "def get_target(star):\n",
    "    return 'positive' if star > 3 else 'negative'"
   ]
  },
  {
   "cell_type": "code",
   "execution_count": null,
   "metadata": {
    "id": "HpEF-1t3F9me"
   },
   "outputs": [],
   "source": [
    "df['target'] = df['stars'].apply( lambda x: get_target(x) )"
   ]
  },
  {
   "cell_type": "code",
   "execution_count": null,
   "metadata": {
    "id": "5-twX6MaGAEL"
   },
   "outputs": [],
   "source": [
    "df.tail()"
   ]
  },
  {
   "cell_type": "code",
   "execution_count": null,
   "metadata": {
    "id": "HkpvBdPo32qF"
   },
   "outputs": [],
   "source": [
    "df['target'].value_counts(normalize=False,dropna=False)"
   ]
  },
  {
   "cell_type": "code",
   "execution_count": null,
   "metadata": {
    "id": "vbihWbTF2s0V"
   },
   "outputs": [],
   "source": [
    "target = df['target'].value_counts(normalize=True)\n",
    "\n",
    "plt.title('Sentiment feedback')\n",
    "desplaz = (0, 0.1)\n",
    "etiquetas = ('Positivo','Negativo')\n",
    "colores = ('lightblue','yellow')\n",
    "plt.pie(target,explode=desplaz,labels=etiquetas,colors=colores,autopct='%.1f%%');"
   ]
  },
  {
   "cell_type": "markdown",
   "metadata": {
    "id": "Xj4RHIzXGQWQ"
   },
   "source": [
    "Para no trabajar con un volumen de datos tan grande, preparamos una muestra en base a los pesos especificos de cada estrella"
   ]
  },
  {
   "cell_type": "code",
   "execution_count": null,
   "metadata": {
    "id": "D1gzhJ4mGUZJ"
   },
   "outputs": [],
   "source": [
    "print('Proporcion por cada cada tipo de estrella:')\n",
    "df.groupby(['stars'])['stars'].count()/df['stars'].count().sum()"
   ]
  },
  {
   "cell_type": "code",
   "execution_count": null,
   "metadata": {
    "id": "KGXkeWXDGhVC"
   },
   "outputs": [],
   "source": [
    "weights = [\n",
    "    {'id':1, 'weight': 0.149914},\n",
    "    {'id':2, 'weight': 0.081144},\n",
    "    {'id':3, 'weight': 0.110502},\n",
    "    {'id':4, 'weight': 0.219540},\n",
    "    {'id':5, 'weight': 0.438900}\n",
    "]\n",
    "\n",
    "def getWeight(rate):\n",
    "    for x in weights:\n",
    "        if rate == x['id']:\n",
    "            return x['weight']\n",
    "        \n",
    "\n",
    "df['weights'] = df['stars'].apply( lambda x: getWeight(x) )"
   ]
  },
  {
   "cell_type": "code",
   "execution_count": null,
   "metadata": {
    "id": "1VCeQ7gfGjaD"
   },
   "outputs": [],
   "source": [
    "df.head()"
   ]
  },
  {
   "cell_type": "code",
   "execution_count": null,
   "metadata": {
    "id": "GhzlpLa4GrhE"
   },
   "outputs": [],
   "source": [
    "sample = df.sample(n=100000, weights='weights', random_state=1)\n",
    "sample.head()"
   ]
  },
  {
   "cell_type": "code",
   "execution_count": null,
   "metadata": {
    "id": "6hrnONHkGxxt"
   },
   "outputs": [],
   "source": [
    "# validemos la distribución del sample\n",
    "\n",
    "ratings = sample['stars'] # data from the sample\n",
    "\n",
    "fig = plt.figure(figsize = (6, 4))\n",
    "\n",
    "title = fig.suptitle(\"Distribucion de estrellas en la muestra\", fontsize=14)\n",
    "\n",
    "fig.subplots_adjust(top=0.85, wspace=0.3)\n",
    "\n",
    "ax = fig.add_subplot(1,1, 1)\n",
    "ax.set_xlabel(\"Rating\")\n",
    "ax.set_ylabel(\"Proportion\") \n",
    "w_q = ratings.value_counts(normalize=True)\n",
    "w_q = (list(w_q.index), list(w_q.values))\n",
    "ax.tick_params(axis='both', which='major', labelsize=8.5)\n",
    "bar = ax.bar(w_q[0], w_q[1], color='steelblue')"
   ]
  },
  {
   "cell_type": "markdown",
   "metadata": {
    "id": "c6MLGeOsh7J_"
   },
   "source": [
    "Calculamos la longitud del texto"
   ]
  },
  {
   "cell_type": "code",
   "execution_count": null,
   "metadata": {
    "id": "jJt2hOmUu7wn"
   },
   "outputs": [],
   "source": [
    "sample['length'] = sample['text'].apply(len)\n",
    "sample.head()"
   ]
  },
  {
   "cell_type": "code",
   "execution_count": null,
   "metadata": {
    "id": "JaT6lKEBvgzX"
   },
   "outputs": [],
   "source": [
    "graph = sns.FacetGrid(data=sample,col='stars')\n",
    "graph.map(plt.hist,'length',bins=25,color='blue')\n",
    "plt.show()"
   ]
  },
  {
   "cell_type": "code",
   "execution_count": null,
   "metadata": {
    "id": "TVmL8qzUyogX"
   },
   "outputs": [],
   "source": [
    "sns.boxplot(x='stars', y='length', data=sample)"
   ]
  },
  {
   "cell_type": "markdown",
   "metadata": {
    "id": "pMm56j9oH4Vq"
   },
   "source": [
    "Vectorizacion"
   ]
  },
  {
   "cell_type": "code",
   "execution_count": null,
   "metadata": {
    "id": "3ThsknkzN-MO"
   },
   "outputs": [],
   "source": [
    "import re\n",
    "import nltk\n",
    "nltk.download('stopwords')\n",
    "from wordcloud import WordCloud\n",
    "from nltk.corpus import stopwords"
   ]
  },
  {
   "cell_type": "code",
   "execution_count": null,
   "metadata": {
    "id": "rbxUL5xHNihB"
   },
   "outputs": [],
   "source": [
    "def text_prep(text):\n",
    "    # filer out non-letters and lowercase them\n",
    "    text = re.sub('[^a-z\\s]', '', text.lower())\n",
    "    # remove stopwords\n",
    "    text = [w for w in text.split() if w not in stopwords.words('english')]\n",
    "    return ' '.join(text)"
   ]
  },
  {
   "cell_type": "code",
   "execution_count": null,
   "metadata": {
    "id": "M5ZGADhAH_Y3"
   },
   "outputs": [],
   "source": [
    "# Definimos countvectorizer para distintos ngrams\n",
    "bow_converter = CountVectorizer(token_pattern='(?u)\\\\b\\\\w+\\\\b') \n",
    "bigram_converter = CountVectorizer(ngram_range=(2,2), token_pattern='(?u)\\\\b\\\\w+\\\\b')\n",
    "trigram_converter = CountVectorizer(ngram_range=(3,3), token_pattern='(?u)\\\\b\\\\w+\\\\b')\n",
    "\n",
    "#bow_converter = CountVectorizer(analyzer=text_prep) \n",
    "#bigram_converter = CountVectorizer(ngram_range=(2,2), analyzer=text_prep)\n",
    "#trigram_converter = CountVectorizer(ngram_range=(3,3), analyzer=text_prep)"
   ]
  },
  {
   "cell_type": "code",
   "execution_count": null,
   "metadata": {
    "id": "S1dCCrKHIBX5"
   },
   "outputs": [],
   "source": [
    "sample = df.sample(n=10000, random_state=1)"
   ]
  },
  {
   "cell_type": "code",
   "execution_count": null,
   "metadata": {
    "id": "aG_9QHULOrGs"
   },
   "outputs": [],
   "source": [
    "sample.head()"
   ]
  },
  {
   "cell_type": "code",
   "execution_count": null,
   "metadata": {
    "id": "Gz9nf5fYMvdw"
   },
   "outputs": [],
   "source": [
    "X = sample['text']\n",
    "y = sample['stars']"
   ]
  },
  {
   "cell_type": "code",
   "execution_count": null,
   "metadata": {
    "id": "MSTYI3cLCbpA"
   },
   "outputs": [],
   "source": [
    "#print(sample['text'].iloc[0])\n",
    "print(X.iloc[0])"
   ]
  },
  {
   "cell_type": "code",
   "execution_count": null,
   "metadata": {
    "id": "T3pqrD_6NHoF"
   },
   "outputs": [],
   "source": [
    "text_prep(X.iloc[0])"
   ]
  },
  {
   "cell_type": "code",
   "execution_count": null,
   "metadata": {
    "id": "TGpyV8NrIDOd"
   },
   "outputs": [],
   "source": [
    "# Aplicamos Fit al transformador\n",
    "bow_converter.fit(X.values.astype('U'))\n",
    "words = bow_converter.get_feature_names()"
   ]
  },
  {
   "cell_type": "code",
   "execution_count": null,
   "metadata": {
    "id": "46HbyW9xIFHR"
   },
   "outputs": [],
   "source": [
    "bigram_converter.fit(X.values.astype('U'))\n",
    "bigrams = bigram_converter.get_feature_names() "
   ]
  },
  {
   "cell_type": "code",
   "execution_count": null,
   "metadata": {
    "id": "5g69bqN2IG43"
   },
   "outputs": [],
   "source": [
    "trigram_converter.fit(X.values.astype('U'))\n",
    "trigrams = trigram_converter.get_feature_names()"
   ]
  },
  {
   "cell_type": "code",
   "execution_count": null,
   "metadata": {
    "id": "IQ8CbY4h7sJT"
   },
   "outputs": [],
   "source": [
    "print (len(words), len(bigrams), len(trigrams))"
   ]
  },
  {
   "cell_type": "code",
   "execution_count": null,
   "metadata": {
    "id": "l5m_4WEiIJGO"
   },
   "outputs": [],
   "source": [
    "words[1000:1010]"
   ]
  },
  {
   "cell_type": "code",
   "execution_count": null,
   "metadata": {
    "id": "lLYo-BDz9NaS"
   },
   "outputs": [],
   "source": [
    "print(words)"
   ]
  },
  {
   "cell_type": "code",
   "execution_count": null,
   "metadata": {
    "id": "q4IjBYqvIK4g"
   },
   "outputs": [],
   "source": [
    "bigrams[10000:10010]"
   ]
  },
  {
   "cell_type": "code",
   "execution_count": null,
   "metadata": {
    "id": "jhWomD_H9gGr"
   },
   "outputs": [],
   "source": [
    "print(bigrams)"
   ]
  },
  {
   "cell_type": "code",
   "execution_count": null,
   "metadata": {
    "id": "QXi8W7_pIMuC"
   },
   "outputs": [],
   "source": [
    "trigrams[100000:100010]"
   ]
  },
  {
   "cell_type": "code",
   "execution_count": null,
   "metadata": {
    "id": "dCVI05TB-nGg"
   },
   "outputs": [],
   "source": [
    "words[50000]"
   ]
  },
  {
   "cell_type": "code",
   "execution_count": null,
   "metadata": {
    "id": "PF06zxEZIOLy"
   },
   "outputs": [],
   "source": [
    "import seaborn as sns"
   ]
  },
  {
   "cell_type": "code",
   "execution_count": null,
   "metadata": {
    "id": "BeHlOwFGIP4F"
   },
   "outputs": [],
   "source": [
    "sns.set_style(\"darkgrid\")\n",
    "counts = [len(words), len(bigrams), len(trigrams)]\n",
    "plt.plot(counts, color='cornflowerblue')\n",
    "plt.plot(counts, 'bo')\n",
    "plt.margins(0.1)\n",
    "plt.xticks(range(3), ['unigram', 'bigram', 'trigram'])\n",
    "plt.tick_params(labelsize=14)\n",
    "plt.title('Numero de ngrams dentro del sample de 10mil reviews', {'fontsize':16})\n",
    "plt.show()"
   ]
  },
  {
   "cell_type": "code",
   "execution_count": null,
   "metadata": {
    "id": "UzMPJheqNp_l"
   },
   "outputs": [],
   "source": [
    "#pd.set_option('mode.chained_assignment', None)\n",
    "#X['text_processed'] = X.apply(text_prep)"
   ]
  },
  {
   "cell_type": "code",
   "execution_count": null,
   "metadata": {
    "id": "5KrLv8uUVIcc"
   },
   "outputs": [],
   "source": [
    "#sample.head()"
   ]
  },
  {
   "cell_type": "code",
   "execution_count": null,
   "metadata": {
    "id": "sjKTYnXHNqod"
   },
   "outputs": [],
   "source": [
    "wc = WordCloud(width=1600, height=800, random_state=42, max_words=1000000)\n",
    "\n",
    "# generation\n",
    "wc.generate(str(X))\n",
    "\n",
    "plt.figure(figsize=(15,10), facecolor='black')\n",
    "plt.title(\"Reviews\", fontsize=40, color='white')\n",
    "plt.imshow(wc, interpolation='bilinear')\n",
    "plt.axis('off')\n",
    "plt.tight_layout(pad=10)"
   ]
  },
  {
   "cell_type": "code",
   "execution_count": null,
   "metadata": {
    "id": "scG-diUuK9gj"
   },
   "outputs": [],
   "source": [
    "review = text_prep(X.iloc[1000])\n",
    "review"
   ]
  },
  {
   "cell_type": "code",
   "execution_count": null,
   "metadata": {
    "id": "sOSqXNiDLLhn"
   },
   "outputs": [],
   "source": [
    "bow_review = bow_converter.transform([review])\n",
    "print(bow_review)"
   ]
  },
  {
   "cell_type": "code",
   "execution_count": null,
   "metadata": {
    "id": "s5ozCP26PiUq"
   },
   "outputs": [],
   "source": [
    "print(bow_converter.get_feature_names()[26223])"
   ]
  },
  {
   "cell_type": "code",
   "execution_count": null,
   "metadata": {
    "id": "jXErJH68QLL9"
   },
   "outputs": [],
   "source": [
    "X = bow_converter.transform(X)"
   ]
  },
  {
   "cell_type": "code",
   "execution_count": null,
   "metadata": {
    "id": "5T4MZwvOVOuL"
   },
   "outputs": [],
   "source": [
    "print('Shape of Sparse Matrix: ', X.shape)\n",
    "print('Amount of Non-Zero occurrences: ', X.nnz)# Percentage of non-zero values\n",
    "density = (100.0 * X.nnz / (X.shape[0] * X.shape[1]))\n",
    "print('Density: {}'.format((density)))"
   ]
  },
  {
   "cell_type": "markdown",
   "metadata": {
    "id": "Mb7vQGycX1br"
   },
   "source": [
    "Training/Test data"
   ]
  },
  {
   "cell_type": "code",
   "execution_count": null,
   "metadata": {
    "id": "yL7vOVDzWINo"
   },
   "outputs": [],
   "source": [
    "from sklearn.model_selection import train_test_split\n",
    "\n",
    "X_train, X_test, y_train, y_test = train_test_split(X, y, test_size=0.2, random_state=101)"
   ]
  },
  {
   "cell_type": "markdown",
   "metadata": {
    "id": "a1XKUOxJX_nF"
   },
   "source": [
    "Training the model"
   ]
  },
  {
   "cell_type": "code",
   "execution_count": null,
   "metadata": {
    "id": "RNKowFV9WbeK"
   },
   "outputs": [],
   "source": [
    "from sklearn.naive_bayes import MultinomialNB\n",
    "\n",
    "nb = MultinomialNB()\n",
    "nb.fit(X_train, y_train)"
   ]
  },
  {
   "cell_type": "markdown",
   "metadata": {
    "id": "ATz4BXKFYLHR"
   },
   "source": [
    "Testing the model"
   ]
  },
  {
   "cell_type": "code",
   "execution_count": null,
   "metadata": {
    "id": "y9NKHo0qWpbm"
   },
   "outputs": [],
   "source": [
    "preds = nb.predict(X_test)"
   ]
  },
  {
   "cell_type": "code",
   "execution_count": null,
   "metadata": {
    "id": "Y104pB7HWtiR"
   },
   "outputs": [],
   "source": [
    "from sklearn.metrics import confusion_matrix, classification_report\n",
    "\n",
    "print(confusion_matrix(y_test, preds))\n",
    "print('\\n')\n",
    "print(classification_report(y_test, preds))"
   ]
  },
  {
   "cell_type": "markdown",
   "metadata": {
    "id": "n-IHNxK7Ymsj"
   },
   "source": [
    "Predictions"
   ]
  },
  {
   "cell_type": "code",
   "execution_count": null,
   "metadata": {
    "id": "vG63y7asYqwt"
   },
   "outputs": [],
   "source": [
    "review_to_predict = 'This is a great place'\n",
    "#review_to_predict = 'This is a poor place'\n",
    "\n",
    "review_to_predict"
   ]
  },
  {
   "cell_type": "code",
   "execution_count": null,
   "metadata": {
    "id": "HTAHSxgPZB2w"
   },
   "outputs": [],
   "source": [
    "review_to_predict_transformed = bow_converter.transform([review_to_predict])\n",
    "\n",
    "nb.predict(review_to_predict_transformed)[0]"
   ]
  }
 ],
 "metadata": {
  "colab": {
   "collapsed_sections": [],
   "name": "TP6_Grupo2.ipynb",
   "provenance": []
  },
  "kernelspec": {
   "display_name": "Python 3",
   "language": "python",
   "name": "python3"
  },
  "language_info": {
   "codemirror_mode": {
    "name": "ipython",
    "version": 3
   },
   "file_extension": ".py",
   "mimetype": "text/x-python",
   "name": "python",
   "nbconvert_exporter": "python",
   "pygments_lexer": "ipython3",
   "version": "3.7.4"
  }
 },
 "nbformat": 4,
 "nbformat_minor": 1
}
